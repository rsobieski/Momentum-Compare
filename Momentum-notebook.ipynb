{
    "cells": [
        {
            "cell_type": "code",
            "execution_count": null,
            "metadata": {},
            "outputs": [],
            "source": [
                "import yfinance as yf\n",
                "import numpy as np\n",
                "\n",
                "df = yf.download('BTC-USD', start='2021-06-10',interval='1m')"
            ]
        },
        {
            "cell_type": "code",
            "execution_count": null,
            "source": [
                "\n",
                "\n",
                "def calculatePostion (df, step = 10):\n",
                "    print(df)\n",
                "\n",
                "    #copy of df\n",
                "    df = df.copy()\n",
                "\n",
                "    #np ->  Close -> procetnage change method\n",
                "    df['ret'] = np.log(df.Close.pct_change() + 1)\n",
                "    df['prior_n'] = df.ret.rolling(step).sum()\n",
                "\n",
                "    print(df)\n",
                "\n",
                "    #keep only valid entries in df\n",
                "    df.dropna(inplace=True)\n",
                "\n",
                "    #i is prior of day or days return\n",
                "    #set return value: positive or negative depends on i\n",
                "    df['position'] = [1 if i > 0 else -1 for i in df.prior_n]\n",
                "\n",
                "    df['strat'] = df.position.shift(1) * df.ret\n",
                "\n",
                "    print(df)\n",
                "\n",
                "    return df\n",
                "\n",
                "df = calculatePostion(df,10)\n"
            ],
            "outputs": [],
            "metadata": {}
        },
        {
            "cell_type": "code",
            "execution_count": null,
            "metadata": {},
            "outputs": [],
            "source": [
                "np.exp(df[['ret','strat']].cumsum()).plot(figsize=(26,16))"
            ]
        },
        {
            "cell_type": "code",
            "execution_count": null,
            "metadata": {},
            "outputs": [],
            "source": []
        }
    ],
    "metadata": {
        "orig_nbformat": 4,
        "language_info": {
            "name": "python",
            "version": "3.9.5",
            "mimetype": "text/x-python",
            "codemirror_mode": {
                "name": "ipython",
                "version": 3
            },
            "pygments_lexer": "ipython3",
            "nbconvert_exporter": "python",
            "file_extension": ".py"
        },
        "kernelspec": {
            "name": "python3",
            "display_name": "Python 3.9.5 64-bit"
        },
        "interpreter": {
            "hash": "aee8b7b246df8f9039afb4144a1f6fd8d2ca17a180786b69acc140d282b71a49"
        }
    },
    "nbformat": 4,
    "nbformat_minor": 2
}